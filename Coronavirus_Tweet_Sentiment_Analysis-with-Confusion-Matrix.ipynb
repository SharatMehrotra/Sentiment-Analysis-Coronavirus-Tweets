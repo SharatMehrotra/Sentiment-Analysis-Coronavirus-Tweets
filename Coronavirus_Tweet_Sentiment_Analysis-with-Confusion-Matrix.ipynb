{
  "nbformat": 4,
  "nbformat_minor": 0,
  "metadata": {
    "colab": {
      "name": "Coronavirus-Tweet-Sentiment-Analysis.ipynb",
      "provenance": [],
      "collapsed_sections": []
    },
    "kernelspec": {
      "name": "python3",
      "display_name": "Python 3"
    },
    "language_info": {
      "name": "python"
    },
    "accelerator": "GPU"
  },
  "cells": [
    {
      "cell_type": "markdown",
      "metadata": {
        "id": "FoO0E9smmftm"
      },
      "source": [
        ""
      ]
    },
    {
      "cell_type": "code",
      "metadata": {
        "id": "wXoGahA3l1AY"
      },
      "source": [
        "import numpy as np # linear algebra\n",
        "import pandas as pd # data processing, CSV file I/O (e.g. pd.read_csv)\n",
        "\n",
        "# Tensorflow imports\n",
        "\n",
        "# for building model\n",
        "import tensorflow as tf\n",
        "from tensorflow import keras\n",
        "from tensorflow.keras import layers, models\n",
        "from tensorflow.keras.models import Sequential\n",
        "from tensorflow.keras.layers import Embedding, LSTM, Flatten, GlobalMaxPooling1D, Dense, Dropout,BatchNormalization,Bidirectional\n",
        "\n",
        "# for Padding\n",
        "from tensorflow.keras import preprocessing\n",
        "from tensorflow.keras.preprocessing.sequence import pad_sequences\n",
        "\n",
        "# for Tokenization \n",
        "from tensorflow.keras.preprocessing.text import Tokenizer\n",
        "\n",
        "# NLTK imports\n",
        "import nltk\n",
        "from nltk.stem import WordNetLemmatizer\n",
        "from nltk.corpus import wordnet\n",
        "from nltk.corpus import stopwords\n",
        "from nltk.tokenize import word_tokenize\n",
        "\n",
        "# For visualization\n",
        "import matplotlib.pyplot as plt\n",
        "import seaborn as sns\n",
        "\n",
        "# For regular expressions\n",
        "import re\n",
        "\n",
        "# For data preprocessing\n",
        "from string import punctuation, digits\n",
        "from google.colab import drive"
      ],
      "execution_count": 1,
      "outputs": []
    },
    {
      "cell_type": "code",
      "metadata": {
        "colab": {
          "base_uri": "https://localhost:8080/"
        },
        "id": "WXmFBzIhm_WE",
        "outputId": "18730ffb-c8e0-4d84-830b-2b963e86a255"
      },
      "source": [
        "from google.colab import drive\n",
        "drive.mount('/content/drive')"
      ],
      "execution_count": 2,
      "outputs": [
        {
          "output_type": "stream",
          "text": [
            "Drive already mounted at /content/drive; to attempt to forcibly remount, call drive.mount(\"/content/drive\", force_remount=True).\n"
          ],
          "name": "stdout"
        }
      ]
    },
    {
      "cell_type": "code",
      "metadata": {
        "colab": {
          "base_uri": "https://localhost:8080/"
        },
        "id": "Wb_kH1_hnE02",
        "outputId": "9bfb9b19-9f8c-4c8a-9e13-b7ae64dd41f4"
      },
      "source": [
        "train_df = pd.read_csv(\"Corona_NLP_train.csv\", encoding=\"Latin-1\")\n",
        "test_df = pd.read_csv(\"Corona_NLP_test.csv\", encoding=\"Latin-1\")\n",
        "\n",
        "print(f\"train dataset shape >> {train_df.shape}\")\n",
        "print(f\"test dataset shape >> {test_df.shape}\")"
      ],
      "execution_count": 3,
      "outputs": [
        {
          "output_type": "stream",
          "text": [
            "train dataset shape >> (41157, 6)\n",
            "test dataset shape >> (3798, 6)\n"
          ],
          "name": "stdout"
        }
      ]
    },
    {
      "cell_type": "code",
      "metadata": {
        "id": "mIhEVUuEoDde"
      },
      "source": [
        "def data_label_split(dataset):\n",
        "    data = dataset['OriginalTweet']\n",
        "    label = dataset['Sentiment']\n",
        "    return data,label\n",
        "\n",
        "train_data,train_label = data_label_split(train_df)\n",
        "test_data,test_label = data_label_split(test_df)\n",
        "\n",
        "train = pd.DataFrame({\n",
        "    'label':train_label,\n",
        "    'data':train_data\n",
        "})\n",
        "\n",
        "test = pd.DataFrame({\n",
        "    'label':test_label,\n",
        "    'data':test_data\n",
        "})\n",
        "\n",
        "# Define function which will make new labels\n",
        "\n",
        "def reassign_label(x):\n",
        "    if x == \"Extremely Positive\" or x == \"Positive\":\n",
        "        return 1\n",
        "    elif x ==\"Extremely Negative\" or x ==\"Negative\":\n",
        "        return -1\n",
        "    elif x ==\"Neutral\":\n",
        "        return 0\n",
        "\n",
        "train.label = train.label.apply(lambda x:reassign_label(x))\n",
        "test.label = test.label.apply(lambda x:reassign_label(x))"
      ],
      "execution_count": 4,
      "outputs": []
    },
    {
      "cell_type": "code",
      "metadata": {
        "id": "LtBMYSZio4Re"
      },
      "source": [
        "def remove_punctuation(s):\n",
        "    list_punctuation = list(punctuation)\n",
        "    for i in list_punctuation:\n",
        "        s = s.replace(i,'')\n",
        "    return s.lower()\n",
        "\n",
        "def clean_sentence(sentence):\n",
        "    sentence = sentence.lower()\n",
        "    sentence = re.sub(r'(\\W)\\1{2,}', r'\\1', sentence) \n",
        "    sentence = re.sub(r'(\\w)\\1{2,}', r'\\1\\1', sentence)\n",
        "    sentence = re.sub(r'(?P<url>https?://[^\\s]+)', '', sentence) # remove URL adresses\n",
        "    sentence = re.sub(r\"\\@(\\w+)\", '', sentence) # remove usernames\n",
        "    sentence = re.sub(r\"\\#(\\w+)\", '', sentence) # remove hashtags\n",
        "    sentence = re.sub(r\"\\$(\\w+)\", '', sentence) # remove cashtags\n",
        "    sentence = sentence.replace(\"-\",' ')\n",
        "    tokens = sentence.split()\n",
        "    tokens = [remove_punctuation(w) for w in tokens] # remove punctuations\n",
        "    stop_words = set(stopwords.words('english')) # remove stopwords\n",
        "    tokens = [w for w in tokens if not w in stop_words]\n",
        "    remove_digits = str.maketrans('', '', digits)\n",
        "    tokens = [w.translate(remove_digits) for w in tokens]\n",
        "    tokens = [w.strip() for w in tokens]\n",
        "    tokens = [w for w in tokens if w!=\"\"]\n",
        "    tokens = ' '.join(tokens)\n",
        "    return tokens"
      ],
      "execution_count": 5,
      "outputs": []
    },
    {
      "cell_type": "code",
      "metadata": {
        "colab": {
          "base_uri": "https://localhost:8080/"
        },
        "id": "5jNbPMfCpqxA",
        "outputId": "d89938ad-11f5-400e-88f3-e9029c6f4703"
      },
      "source": [
        "nltk.download('stopwords')\n",
        "train.data = train.data.apply(lambda sentence:clean_sentence(sentence))\n",
        "test.data = test.data.apply(lambda sentence:clean_sentence(sentence))"
      ],
      "execution_count": 6,
      "outputs": [
        {
          "output_type": "stream",
          "text": [
            "[nltk_data] Downloading package stopwords to /root/nltk_data...\n",
            "[nltk_data]   Package stopwords is already up-to-date!\n"
          ],
          "name": "stdout"
        }
      ]
    },
    {
      "cell_type": "code",
      "metadata": {
        "id": "FIZ34ESyptoI"
      },
      "source": [
        "def rem_latin_a(sentences):\n",
        "    sentences = sentences.replace(\"â\", \"\")\n",
        "    return sentences\n",
        "\n",
        "train.data = train.data.apply(lambda sentences:rem_latin_a(sentences))\n",
        "test.data = test.data.apply(lambda sentences:rem_latin_a(sentences))"
      ],
      "execution_count": 7,
      "outputs": []
    },
    {
      "cell_type": "code",
      "metadata": {
        "id": "dh8qEzNwrW-t"
      },
      "source": [
        "train['data'].replace('', np.nan, inplace=True)\n",
        "test['data'].replace('', np.nan, inplace=True)"
      ],
      "execution_count": 8,
      "outputs": []
    },
    {
      "cell_type": "code",
      "metadata": {
        "id": "DwOEcRiTredZ"
      },
      "source": [
        "# Discard null values\n",
        "\n",
        "# Originally there were 41157 rows, now it has become 41106. The training dataset was reduced by 51 lines.\n",
        "train.dropna(subset=['data'], inplace=True)\n",
        "\n",
        "# Originally there were 3798 lines, now it has become 3795. The test dataset was reduced by 3 lines.\n",
        "test.dropna(subset=['data'], inplace=True)"
      ],
      "execution_count": 9,
      "outputs": []
    },
    {
      "cell_type": "code",
      "metadata": {
        "id": "CpE8mPMkrhRc"
      },
      "source": [
        "# Splitting data to train and test\n",
        "\n",
        "# Train data\n",
        "train_data = train.data\n",
        "train_label = train.label\n",
        "\n",
        "# Test data\n",
        "test_data = test.data\n",
        "test_label = test.label"
      ],
      "execution_count": 10,
      "outputs": []
    },
    {
      "cell_type": "code",
      "metadata": {
        "colab": {
          "base_uri": "https://localhost:8080/",
          "height": 314
        },
        "id": "VDZG7f9Irj7L",
        "outputId": "2ab805da-82dc-4e4d-c7ec-c5c238dbd2a7"
      },
      "source": [
        "sns.countplot(x=train_label)\n",
        "plt.title('The number of elements in each class in the train data', fontdict={'fontname': 'Comic Sans MS', 'fontsize': 15})\n",
        "plt.tight_layout()\n",
        "plt.show()"
      ],
      "execution_count": 11,
      "outputs": [
        {
          "output_type": "stream",
          "text": [
            "findfont: Font family ['Comic Sans MS'] not found. Falling back to DejaVu Sans.\n"
          ],
          "name": "stderr"
        },
        {
          "output_type": "display_data",
          "data": {
            "image/png": "[encoded data removed]",
            "text/plain": [
              "<Figure size 432x288 with 1 Axes>"
            ]
          },
          "metadata": {
            "tags": [],
            "needs_background": "light"
          }
        }
      ]
    },
    {
      "cell_type": "code",
      "metadata": {
        "colab": {
          "base_uri": "https://localhost:8080/",
          "height": 297
        },
        "id": "vtPSHOzzrnDt",
        "outputId": "477a8072-57b9-49d4-aef4-db29e6c034c5"
      },
      "source": [
        "sns.countplot(x=test_label)\n",
        "plt.title('The number of elements in each class in the test data', fontdict={'fontname': 'Comic Sans MS', 'fontsize': 15})\n",
        "plt.tight_layout()\n",
        "plt.show()"
      ],
      "execution_count": 12,
      "outputs": [
        {
          "output_type": "display_data",
          "data": {
            "image/png": "[encoded data removed]",
            "text/plain": [
              "<Figure size 432x288 with 1 Axes>"
            ]
          },
          "metadata": {
            "tags": [],
            "needs_background": "light"
          }
        }
      ]
    },
    {
      "cell_type": "code",
      "metadata": {
        "id": "2N-jymU0rpZk"
      },
      "source": [
        "train_label = pd.get_dummies(train_label)\n",
        "test_label = pd.get_dummies(test_label)"
      ],
      "execution_count": 13,
      "outputs": []
    },
    {
      "cell_type": "code",
      "metadata": {
        "colab": {
          "base_uri": "https://localhost:8080/",
          "height": 417
        },
        "id": "2IVULbtLryQv",
        "outputId": "059b28c8-211f-402e-8c90-42c469f1ea22"
      },
      "source": [
        "train_label"
      ],
      "execution_count": 14,
      "outputs": [
        {
          "output_type": "execute_result",
          "data": {
            "text/html": [
              "<div>\n",
              "<style scoped>\n",
              "    .dataframe tbody tr th:only-of-type {\n",
              "        vertical-align: middle;\n",
              "    }\n",
              "\n",
              "    .dataframe tbody tr th {\n",
              "        vertical-align: top;\n",
              "    }\n",
              "\n",
              "    .dataframe thead th {\n",
              "        text-align: right;\n",
              "    }\n",
              "</style>\n",
              "<table border=\"1\" class=\"dataframe\">\n",
              "  <thead>\n",
              "    <tr style=\"text-align: right;\">\n",
              "      <th></th>\n",
              "      <th>-1</th>\n",
              "      <th>0</th>\n",
              "      <th>1</th>\n",
              "    </tr>\n",
              "  </thead>\n",
              "  <tbody>\n",
              "    <tr>\n",
              "      <th>1</th>\n",
              "      <td>0</td>\n",
              "      <td>0</td>\n",
              "      <td>1</td>\n",
              "    </tr>\n",
              "    <tr>\n",
              "      <th>2</th>\n",
              "      <td>0</td>\n",
              "      <td>0</td>\n",
              "      <td>1</td>\n",
              "    </tr>\n",
              "    <tr>\n",
              "      <th>3</th>\n",
              "      <td>0</td>\n",
              "      <td>0</td>\n",
              "      <td>1</td>\n",
              "    </tr>\n",
              "    <tr>\n",
              "      <th>4</th>\n",
              "      <td>1</td>\n",
              "      <td>0</td>\n",
              "      <td>0</td>\n",
              "    </tr>\n",
              "    <tr>\n",
              "      <th>5</th>\n",
              "      <td>0</td>\n",
              "      <td>0</td>\n",
              "      <td>1</td>\n",
              "    </tr>\n",
              "    <tr>\n",
              "      <th>...</th>\n",
              "      <td>...</td>\n",
              "      <td>...</td>\n",
              "      <td>...</td>\n",
              "    </tr>\n",
              "    <tr>\n",
              "      <th>41152</th>\n",
              "      <td>0</td>\n",
              "      <td>1</td>\n",
              "      <td>0</td>\n",
              "    </tr>\n",
              "    <tr>\n",
              "      <th>41153</th>\n",
              "      <td>1</td>\n",
              "      <td>0</td>\n",
              "      <td>0</td>\n",
              "    </tr>\n",
              "    <tr>\n",
              "      <th>41154</th>\n",
              "      <td>0</td>\n",
              "      <td>0</td>\n",
              "      <td>1</td>\n",
              "    </tr>\n",
              "    <tr>\n",
              "      <th>41155</th>\n",
              "      <td>0</td>\n",
              "      <td>1</td>\n",
              "      <td>0</td>\n",
              "    </tr>\n",
              "    <tr>\n",
              "      <th>41156</th>\n",
              "      <td>1</td>\n",
              "      <td>0</td>\n",
              "      <td>0</td>\n",
              "    </tr>\n",
              "  </tbody>\n",
              "</table>\n",
              "<p>41106 rows × 3 columns</p>\n",
              "</div>"
            ],
            "text/plain": [
              "       -1   0   1\n",
              "1       0   0   1\n",
              "2       0   0   1\n",
              "3       0   0   1\n",
              "4       1   0   0\n",
              "5       0   0   1\n",
              "...    ..  ..  ..\n",
              "41152   0   1   0\n",
              "41153   1   0   0\n",
              "41154   0   0   1\n",
              "41155   0   1   0\n",
              "41156   1   0   0\n",
              "\n",
              "[41106 rows x 3 columns]"
            ]
          },
          "metadata": {
            "tags": []
          },
          "execution_count": 14
        }
      ]
    },
    {
      "cell_type": "code",
      "metadata": {
        "id": "_KSKXaxpr2K7"
      },
      "source": [
        "lemmatizer = WordNetLemmatizer()\n",
        "\n",
        "# Function to convert nltk tag to wordnet tag\n",
        "def nltk_tag_to_wordnet_tag(nltk_tag):\n",
        "    if nltk_tag.startswith('J'):\n",
        "        return wordnet.ADJ\n",
        "    elif nltk_tag.startswith('V'):\n",
        "        return wordnet.VERB\n",
        "    elif nltk_tag.startswith('N'):\n",
        "        return wordnet.NOUN\n",
        "    elif nltk_tag.startswith('R'):\n",
        "        return wordnet.ADV\n",
        "    else:\n",
        "        return None\n",
        "\n",
        "# Function below is necessery to find lemma of each word\n",
        "def lemmatize_sentence(de_punct_sent):\n",
        "    # Tokenize the sentence and find the POS tag for each token\n",
        "    nltk_tagged = nltk.pos_tag(nltk.word_tokenize(de_punct_sent))\n",
        "    # Tuple of (token, wordnet_tag)\n",
        "    wordnet_tagged = map(lambda x: (x[0], nltk_tag_to_wordnet_tag(x[1])), nltk_tagged)\n",
        "    lemmatized_sentence = []\n",
        "    for word, tag in wordnet_tagged:\n",
        "        if tag is None:\n",
        "            # If there is no available tag, append the token as is\n",
        "            lemmatized_sentence.append(word)\n",
        "        else:\n",
        "            # else use the tag to lemmatize the token\n",
        "            lemmatized_sentence.append(lemmatizer.lemmatize(word, tag))\n",
        "    return \" \".join(lemmatized_sentence)\n"
      ],
      "execution_count": 15,
      "outputs": []
    },
    {
      "cell_type": "code",
      "metadata": {
        "colab": {
          "base_uri": "https://localhost:8080/"
        },
        "id": "kJTv7I6lr7D8",
        "outputId": "4286d07d-b3ba-4fab-f7c0-edbb9a688216"
      },
      "source": [
        "nltk.download('punkt')\n",
        "nltk.download('averaged_perceptron_tagger')\n",
        "nltk.download('wordnet')\n",
        "train_lem = [lemmatize_sentence(i) for i in train_data]\n",
        "test_lem = [lemmatize_sentence(i) for i in test_data]"
      ],
      "execution_count": 16,
      "outputs": [
        {
          "output_type": "stream",
          "text": [
            "[nltk_data] Downloading package punkt to /root/nltk_data...\n",
            "[nltk_data]   Package punkt is already up-to-date!\n",
            "[nltk_data] Downloading package averaged_perceptron_tagger to\n",
            "[nltk_data]     /root/nltk_data...\n",
            "[nltk_data]   Package averaged_perceptron_tagger is already up-to-\n",
            "[nltk_data]       date!\n",
            "[nltk_data] Downloading package wordnet to /root/nltk_data...\n",
            "[nltk_data]   Package wordnet is already up-to-date!\n"
          ],
          "name": "stdout"
        }
      ]
    },
    {
      "cell_type": "code",
      "metadata": {
        "colab": {
          "base_uri": "https://localhost:8080/"
        },
        "id": "cVJAUlvjr9Ym",
        "outputId": "42707157-4c45-445f-a48f-126e9df2f347"
      },
      "source": [
        "samples_1 = train_lem\n",
        "samples_2 = test_lem\n",
        "\n",
        "tokenizer = Tokenizer(num_words=25000) # 25 000 most frequently used words\n",
        "tokenizer.fit_on_texts(samples_1) # Creat an index of all words from training data\n",
        "\n",
        "# Convert strings to integer index lists\n",
        "\n",
        "# After that, we pass the ready-made (from the line above) indexes for all words from train\n",
        "train_data = tokenizer.texts_to_sequences(samples_1)\n",
        "\n",
        "# And for test. So, we should get the same word indexes in the two texts\n",
        "test_data = tokenizer.texts_to_sequences(samples_2)\n",
        "\n",
        "word_index = tokenizer.word_index # Find out the calculated index of words\n",
        "print('Found %s unique tokens.' % len(word_index))"
      ],
      "execution_count": 17,
      "outputs": [
        {
          "output_type": "stream",
          "text": [
            "Found 31903 unique tokens.\n"
          ],
          "name": "stdout"
        }
      ]
    },
    {
      "cell_type": "code",
      "metadata": {
        "colab": {
          "base_uri": "https://localhost:8080/",
          "height": 321
        },
        "id": "IcrTwDJtsNXQ",
        "outputId": "964a9c56-7f38-405c-e986-390dde533f96"
      },
      "source": [
        "\n",
        "lens =  [len(s) for s in train_data]\n",
        "\n",
        "plt.title('The maximum number of words in a sentence', fontdict={'fontname': 'Comic Sans MS', 'fontsize': 17})\n",
        "plt.xlabel('The max number of words in a sentence', fontdict={'fontname': 'Comic Sans MS', 'fontsize': 15})\n",
        "plt.ylabel('The number of sentences', fontdict={'fontname': 'Comic Sans MS', 'fontsize': 15})\n",
        "plt.hist(lens,bins=200)\n",
        "plt.show()"
      ],
      "execution_count": 18,
      "outputs": [
        {
          "output_type": "stream",
          "text": [
            "findfont: Font family ['Comic Sans MS'] not found. Falling back to DejaVu Sans.\n"
          ],
          "name": "stderr"
        },
        {
          "output_type": "display_data",
          "data": {
            "image/png": "[encoded data removed]",
            "text/plain": [
              "<Figure size 432x288 with 1 Axes>"
            ]
          },
          "metadata": {
            "tags": [],
            "needs_background": "light"
          }
        }
      ]
    },
    {
      "cell_type": "code",
      "metadata": {
        "id": "s4DQfrozsPsh"
      },
      "source": [
        "maxlen = 40 # maximal length of sentences\n",
        "\n",
        "# Convert lists of integers to a two-dimensional tensor \n",
        "# with integers and with a shape (samples, max. length)\n",
        "\n",
        "train_data = preprocessing.sequence.pad_sequences(train_data, maxlen=maxlen, padding='post', truncating='post') \n",
        "test_data = preprocessing.sequence.pad_sequences(test_data, maxlen=maxlen, padding='post', truncating='post')"
      ],
      "execution_count": 19,
      "outputs": []
    },
    {
      "cell_type": "code",
      "metadata": {
        "id": "kyW-GG7_sSFq"
      },
      "source": [
        "embedding_dim = 256 # Dimension of the dense embedding.\n",
        "\n",
        "vocab_inp_size = len(word_index) + 1 # Size of the vocabulary\n",
        "\n",
        "hidden_size = 128"
      ],
      "execution_count": 20,
      "outputs": []
    },
    {
      "cell_type": "code",
      "metadata": {
        "colab": {
          "base_uri": "https://localhost:8080/"
        },
        "id": "23sFInXGsT47",
        "outputId": "4a098c66-a9c3-4977-fdf8-bbc58c5ec366"
      },
      "source": [
        "model = Sequential() \n",
        "\n",
        "# The Embedding layer is necessery in order to convert words (in out case from integers) to vectors\n",
        "model.add(Embedding(input_dim = vocab_inp_size, output_dim = embedding_dim, input_length = maxlen))\n",
        "\n",
        "# Apply Dropout to use recurrent decimation to combat overfitting \n",
        "model.add(Bidirectional(LSTM(hidden_size, return_sequences=True))) \n",
        "\n",
        "# Use Flatten() or GlobalMaxPooling1D() to convert 3D output to 2D.\n",
        "# It allows you to add one or more Dense layers to your model \n",
        "model.add(Flatten()) \n",
        "# or\n",
        "\n",
        "#model.add(Dense(64, activation='relu'))#as experiment we tried to add one additional layer,but it is not give as higher accuracy\n",
        "model.add(Dense(128,activation='relu'))\n",
        "model.add(Dropout(0.4))\n",
        "model.add(Dense(64,activation='relu'))\n",
        "model.add(Dropout(0.4))\n",
        "model.add(Dense(32,activation='relu'))\n",
        "model.add(Dense(3, activation='softmax'))#activation function for classification\n",
        "model.summary()\n",
        "\n",
        "model.compile(optimizer='adam', loss='categorical_crossentropy', metrics=['accuracy']) \n",
        "\n",
        "history = model.fit(train_data, train_label, epochs=3 , batch_size = 128, validation_split=0.01)"
      ],
      "execution_count": 21,
      "outputs": [
        {
          "output_type": "stream",
          "text": [
            "Model: \"sequential\"\n",
            "_________________________________________________________________\n",
            "Layer (type)                 Output Shape              Param #   \n",
            "=================================================================\n",
            "embedding (Embedding)        (None, 40, 256)           8167424   \n",
            "_________________________________________________________________\n",
            "bidirectional (Bidirectional (None, 40, 256)           394240    \n",
            "_________________________________________________________________\n",
            "flatten (Flatten)            (None, 10240)             0         \n",
            "_________________________________________________________________\n",
            "dense (Dense)                (None, 128)               1310848   \n",
            "_________________________________________________________________\n",
            "dropout (Dropout)            (None, 128)               0         \n",
            "_________________________________________________________________\n",
            "dense_1 (Dense)              (None, 64)                8256      \n",
            "_________________________________________________________________\n",
            "dropout_1 (Dropout)          (None, 64)                0         \n",
            "_________________________________________________________________\n",
            "dense_2 (Dense)              (None, 32)                2080      \n",
            "_________________________________________________________________\n",
            "dense_3 (Dense)              (None, 3)                 99        \n",
            "=================================================================\n",
            "Total params: 9,882,947\n",
            "Trainable params: 9,882,947\n",
            "Non-trainable params: 0\n",
            "_________________________________________________________________\n",
            "Epoch 1/3\n",
            "318/318 [==============================] - 33s 93ms/step - loss: 0.7001 - accuracy: 0.6976 - val_loss: 0.4750 - val_accuracy: 0.8398\n",
            "Epoch 2/3\n",
            "318/318 [==============================] - 29s 91ms/step - loss: 0.3843 - accuracy: 0.8729 - val_loss: 0.4566 - val_accuracy: 0.8471\n",
            "Epoch 3/3\n",
            "318/318 [==============================] - 29s 91ms/step - loss: 0.2833 - accuracy: 0.9079 - val_loss: 0.5128 - val_accuracy: 0.8301\n"
          ],
          "name": "stdout"
        }
      ]
    },
    {
      "cell_type": "code",
      "metadata": {
        "colab": {
          "base_uri": "https://localhost:8080/",
          "height": 545
        },
        "id": "vE9iDV6zsfyx",
        "outputId": "e54e2c6a-0eb0-443e-efda-960d3b04bfc6"
      },
      "source": [
        "acc = history.history['accuracy']\n",
        "val_acc = history.history['val_accuracy'] \n",
        "loss = history.history['loss'] \n",
        "val_loss = history.history['val_loss']\n",
        "\n",
        "epochs = range(1, len(acc) + 1)\n",
        "\n",
        "plt.plot(epochs, acc, 'r', label='Training acc')\n",
        "plt.plot(epochs, val_acc, 'b', label='Validation acc') \n",
        "plt.title('Training and validation accuracy') \n",
        "plt.legend()\n",
        "\n",
        "plt.figure()\n",
        "\n",
        "plt.plot(epochs, loss, 'r', label='Training loss')\n",
        "plt.plot(epochs, val_loss, 'b', label='Validation loss') \n",
        "plt.title('Training and validation loss')\n",
        "plt.legend()\n",
        "\n",
        "plt.show()"
      ],
      "execution_count": 22,
      "outputs": [
        {
          "output_type": "display_data",
          "data": {
            "image/png": "[encoded data removed]",
            "text/plain": [
              "<Figure size 432x288 with 1 Axes>"
            ]
          },
          "metadata": {
            "tags": [],
            "needs_background": "light"
          }
        },
        {
          "output_type": "display_data",
          "data": {
            "image/png": "[encoded data removed]",
            "text/plain": [
              "<Figure size 432x288 with 1 Axes>"
            ]
          },
          "metadata": {
            "tags": [],
            "needs_background": "light"
          }
        }
      ]
    },
    {
      "cell_type": "code",
      "metadata": {
        "colab": {
          "base_uri": "https://localhost:8080/"
        },
        "id": "UqtdGgGLt4T4",
        "outputId": "2f61bcb4-ac89-47db-9072-139feda17879"
      },
      "source": [
        "model.evaluate(test_data,test_label)"
      ],
      "execution_count": 23,
      "outputs": [
        {
          "output_type": "stream",
          "text": [
            "119/119 [==============================] - 1s 6ms/step - loss: 0.4987 - accuracy: 0.8274\n"
          ],
          "name": "stdout"
        },
        {
          "output_type": "execute_result",
          "data": {
            "text/plain": [
              "[0.49866175651550293, 0.8274044990539551]"
            ]
          },
          "metadata": {
            "tags": []
          },
          "execution_count": 23
        }
      ]
    },
    {
      "cell_type": "code",
      "metadata": {
        "colab": {
          "base_uri": "https://localhost:8080/"
        },
        "id": "4mVj57bQDVef",
        "outputId": "76717a6b-6592-4754-aec3-8ee52efda027"
      },
      "source": [
        "t=model.predict(test_data)\n",
        "print(t)"
      ],
      "execution_count": 24,
      "outputs": [
        {
          "output_type": "stream",
          "text": [
            "[[9.3297267e-01 3.2453727e-02 3.4573644e-02]\n",
            " [2.9127803e-03 6.3220332e-03 9.9076521e-01]\n",
            " [1.5036172e-03 1.7433276e-04 9.9832207e-01]\n",
            " ...\n",
            " [2.4168235e-03 9.9730635e-01 2.7678840e-04]\n",
            " [9.9296266e-01 1.1855228e-03 5.8518345e-03]\n",
            " [2.9341499e-03 3.6341633e-04 9.9670237e-01]]\n"
          ],
          "name": "stdout"
        }
      ]
    },
    {
      "cell_type": "code",
      "metadata": {
        "id": "OaQ4wWT7FXXE"
      },
      "source": [
        "temp=[]\n",
        "for i in t:\n",
        "  if(i[0]> i[1] and i[0]>i[2]):\n",
        "    temp.append([1,0,0])\n",
        "  elif(i[1]>i[0] and i[1]>i[2]):\n",
        "    temp.append([0,1,0])\n",
        "  else:\n",
        "    temp.append([0,0,1])\n"
      ],
      "execution_count": 25,
      "outputs": []
    },
    {
      "cell_type": "code",
      "metadata": {
        "colab": {
          "base_uri": "https://localhost:8080/"
        },
        "id": "Oo6mOXjbGVe2",
        "outputId": "8e9267c6-4a24-41ca-9eca-b27337ddd092"
      },
      "source": [
        "from sklearn.metrics import classification_report\n",
        "print(classification_report(test_label,temp))"
      ],
      "execution_count": 26,
      "outputs": [
        {
          "output_type": "stream",
          "text": [
            "              precision    recall  f1-score   support\n",
            "\n",
            "           0       0.83      0.85      0.84      1633\n",
            "           1       0.79      0.72      0.75       616\n",
            "           2       0.84      0.85      0.84      1546\n",
            "\n",
            "   micro avg       0.83      0.83      0.83      3795\n",
            "   macro avg       0.82      0.81      0.81      3795\n",
            "weighted avg       0.83      0.83      0.83      3795\n",
            " samples avg       0.83      0.83      0.83      3795\n",
            "\n"
          ],
          "name": "stdout"
        }
      ]
    },
    {
      "cell_type": "code",
      "metadata": {
        "id": "iE4WEZqGGeah"
      },
      "source": [
        ""
      ],
      "execution_count": 26,
      "outputs": []
    }
  ]
}