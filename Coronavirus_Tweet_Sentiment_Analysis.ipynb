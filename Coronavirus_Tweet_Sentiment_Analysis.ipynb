{
  "nbformat": 4,
  "nbformat_minor": 0,
  "metadata": {
    "colab": {
      "name": "Coronavirus-Tweet-Sentiment-Analysis.ipynb",
      "provenance": [],
      "collapsed_sections": []
    },
    "kernelspec": {
      "name": "python3",
      "display_name": "Python 3"
    },
    "language_info": {
      "name": "python"
    },
    "accelerator": "GPU"
  },
  "cells": [
    {
      "cell_type": "markdown",
      "metadata": {
        "id": "FoO0E9smmftm"
      },
      "source": [
        ""
      ]
    },
    {
      "cell_type": "code",
      "metadata": {
        "id": "wXoGahA3l1AY"
      },
      "source": [
        "import numpy as np # linear algebra\n",
        "import pandas as pd # data processing, CSV file I/O (e.g. pd.read_csv)\n",
        "\n",
        "# Tensorflow imports\n",
        "\n",
        "# for building model\n",
        "import tensorflow as tf\n",
        "from tensorflow import keras\n",
        "from tensorflow.keras import layers, models\n",
        "from tensorflow.keras.models import Sequential\n",
        "from tensorflow.keras.layers import Embedding, LSTM, Flatten, GlobalMaxPooling1D, Dense, Dropout,BatchNormalization\n",
        "\n",
        "# for Padding\n",
        "from tensorflow.keras import preprocessing\n",
        "from tensorflow.keras.preprocessing.sequence import pad_sequences\n",
        "\n",
        "# for Tokenization \n",
        "from tensorflow.keras.preprocessing.text import Tokenizer\n",
        "\n",
        "# NLTK imports\n",
        "import nltk\n",
        "from nltk.stem import WordNetLemmatizer\n",
        "from nltk.corpus import wordnet\n",
        "from nltk.corpus import stopwords\n",
        "from nltk.tokenize import word_tokenize\n",
        "\n",
        "# For visualization\n",
        "import matplotlib.pyplot as plt\n",
        "import seaborn as sns\n",
        "\n",
        "# For regular expressions\n",
        "import re\n",
        "\n",
        "# For data preprocessing\n",
        "from string import punctuation, digits\n",
        "from google.colab import drive"
      ],
      "execution_count": 1,
      "outputs": []
    },
    {
      "cell_type": "code",
      "metadata": {
        "colab": {
          "base_uri": "https://localhost:8080/"
        },
        "id": "WXmFBzIhm_WE",
        "outputId": "f6030fcc-517c-4061-b4b4-9bce49ae01c7"
      },
      "source": [
        "from google.colab import drive\n",
        "drive.mount('/content/drive')"
      ],
      "execution_count": 2,
      "outputs": [
        {
          "output_type": "stream",
          "text": [
            "Drive already mounted at /content/drive; to attempt to forcibly remount, call drive.mount(\"/content/drive\", force_remount=True).\n"
          ],
          "name": "stdout"
        }
      ]
    },
    {
      "cell_type": "code",
      "metadata": {
        "colab": {
          "base_uri": "https://localhost:8080/"
        },
        "id": "Wb_kH1_hnE02",
        "outputId": "b8a3c72e-7719-43d8-9021-509e759e13e9"
      },
      "source": [
        "train_df = pd.read_csv(\"Corona_NLP_train.csv\", encoding=\"Latin-1\")\n",
        "test_df = pd.read_csv(\"Corona_NLP_test.csv\", encoding=\"Latin-1\")\n",
        "\n",
        "print(f\"train dataset shape >> {train_df.shape}\")\n",
        "print(f\"test dataset shape >> {test_df.shape}\")"
      ],
      "execution_count": 3,
      "outputs": [
        {
          "output_type": "stream",
          "text": [
            "train dataset shape >> (41157, 6)\n",
            "test dataset shape >> (3798, 6)\n"
          ],
          "name": "stdout"
        }
      ]
    },
    {
      "cell_type": "code",
      "metadata": {
        "id": "mIhEVUuEoDde"
      },
      "source": [
        "def data_label_split(dataset):\n",
        "    data = dataset['OriginalTweet']\n",
        "    label = dataset['Sentiment']\n",
        "    return data,label\n",
        "\n",
        "train_data,train_label = data_label_split(train_df)\n",
        "test_data,test_label = data_label_split(test_df)\n",
        "\n",
        "train = pd.DataFrame({\n",
        "    'label':train_label,\n",
        "    'data':train_data\n",
        "})\n",
        "\n",
        "test = pd.DataFrame({\n",
        "    'label':test_label,\n",
        "    'data':test_data\n",
        "})\n",
        "\n",
        "# Define function which will make new labels\n",
        "\n",
        "def reassign_label(x):\n",
        "    if x == \"Extremely Positive\" or x == \"Positive\":\n",
        "        return 1\n",
        "    elif x ==\"Extremely Negative\" or x ==\"Negative\":\n",
        "        return -1\n",
        "    elif x ==\"Neutral\":\n",
        "        return 0\n",
        "\n",
        "train.label = train.label.apply(lambda x:reassign_label(x))\n",
        "test.label = test.label.apply(lambda x:reassign_label(x))"
      ],
      "execution_count": 4,
      "outputs": []
    },
    {
      "cell_type": "code",
      "metadata": {
        "id": "LtBMYSZio4Re"
      },
      "source": [
        "def remove_punctuation(s):\n",
        "    list_punctuation = list(punctuation)\n",
        "    for i in list_punctuation:\n",
        "        s = s.replace(i,'')\n",
        "    return s.lower()\n",
        "\n",
        "def clean_sentence(sentence):\n",
        "    sentence = sentence.lower()\n",
        "    sentence = re.sub(r'(\\W)\\1{2,}', r'\\1', sentence) \n",
        "    sentence = re.sub(r'(\\w)\\1{2,}', r'\\1\\1', sentence)\n",
        "    sentence = re.sub(r'(?P<url>https?://[^\\s]+)', '', sentence) # remove URL adresses\n",
        "    sentence = re.sub(r\"\\@(\\w+)\", '', sentence) # remove usernames\n",
        "    sentence = re.sub(r\"\\#(\\w+)\", '', sentence) # remove hashtags\n",
        "    sentence = re.sub(r\"\\$(\\w+)\", '', sentence) # remove cashtags\n",
        "    sentence = sentence.replace(\"-\",' ')\n",
        "    tokens = sentence.split()\n",
        "    tokens = [remove_punctuation(w) for w in tokens] # remove punctuations\n",
        "    stop_words = set(stopwords.words('english')) # remove stopwords\n",
        "    tokens = [w for w in tokens if not w in stop_words]\n",
        "    remove_digits = str.maketrans('', '', digits)\n",
        "    tokens = [w.translate(remove_digits) for w in tokens]\n",
        "    tokens = [w.strip() for w in tokens]\n",
        "    tokens = [w for w in tokens if w!=\"\"]\n",
        "    tokens = ' '.join(tokens)\n",
        "    return tokens"
      ],
      "execution_count": 5,
      "outputs": []
    },
    {
      "cell_type": "code",
      "metadata": {
        "colab": {
          "base_uri": "https://localhost:8080/"
        },
        "id": "5jNbPMfCpqxA",
        "outputId": "9cd9b9de-ed3c-4bf4-f828-b90ad992a8ac"
      },
      "source": [
        "nltk.download('stopwords')\n",
        "train.data = train.data.apply(lambda sentence:clean_sentence(sentence))\n",
        "test.data = test.data.apply(lambda sentence:clean_sentence(sentence))"
      ],
      "execution_count": 6,
      "outputs": [
        {
          "output_type": "stream",
          "text": [
            "[nltk_data] Downloading package stopwords to /root/nltk_data...\n",
            "[nltk_data]   Package stopwords is already up-to-date!\n"
          ],
          "name": "stdout"
        }
      ]
    },
    {
      "cell_type": "code",
      "metadata": {
        "id": "FIZ34ESyptoI"
      },
      "source": [
        "def rem_latin_a(sentences):\n",
        "    sentences = sentences.replace(\"â\", \"\")\n",
        "    return sentences\n",
        "\n",
        "train.data = train.data.apply(lambda sentences:rem_latin_a(sentences))\n",
        "test.data = test.data.apply(lambda sentences:rem_latin_a(sentences))"
      ],
      "execution_count": 7,
      "outputs": []
    },
    {
      "cell_type": "code",
      "metadata": {
        "id": "dh8qEzNwrW-t"
      },
      "source": [
        "train['data'].replace('', np.nan, inplace=True)\n",
        "test['data'].replace('', np.nan, inplace=True)"
      ],
      "execution_count": 8,
      "outputs": []
    },
    {
      "cell_type": "code",
      "metadata": {
        "id": "DwOEcRiTredZ"
      },
      "source": [
        "# Discard null values\n",
        "\n",
        "# Originally there were 41157 rows, now it has become 41106. The training dataset was reduced by 51 lines.\n",
        "train.dropna(subset=['data'], inplace=True)\n",
        "\n",
        "# Originally there were 3798 lines, now it has become 3795. The test dataset was reduced by 3 lines.\n",
        "test.dropna(subset=['data'], inplace=True)"
      ],
      "execution_count": 9,
      "outputs": []
    },
    {
      "cell_type": "code",
      "metadata": {
        "id": "CpE8mPMkrhRc"
      },
      "source": [
        "# Splitting data to train and test\n",
        "\n",
        "# Train data\n",
        "train_data = train.data\n",
        "train_label = train.label\n",
        "\n",
        "# Test data\n",
        "test_data = test.data\n",
        "test_label = test.label"
      ],
      "execution_count": 10,
      "outputs": []
    },
    {
      "cell_type": "code",
      "metadata": {
        "colab": {
          "base_uri": "https://localhost:8080/",
          "height": 314
        },
        "id": "VDZG7f9Irj7L",
        "outputId": "51a64b7b-5edc-45d9-aad4-1df439e5429e"
      },
      "source": [
        "sns.countplot(x=train_label)\n",
        "plt.title('The number of elements in each class in the train data', fontdict={'fontname': 'Comic Sans MS', 'fontsize': 15})\n",
        "plt.tight_layout()\n",
        "plt.show()"
      ],
      "execution_count": 11,
      "outputs": [
        {
          "output_type": "stream",
          "text": [
            "findfont: Font family ['Comic Sans MS'] not found. Falling back to DejaVu Sans.\n"
          ],
          "name": "stderr"
        },
        {
          "output_type": "display_data",
          "data": {
            "image/png": "[encoded data removed]",
            "text/plain": [
              "<Figure size 432x288 with 1 Axes>"
            ]
          },
          "metadata": {
            "tags": [],
            "needs_background": "light"
          }
        }
      ]
    },
    {
      "cell_type": "code",
      "metadata": {
        "colab": {
          "base_uri": "https://localhost:8080/",
          "height": 297
        },
        "id": "vtPSHOzzrnDt",
        "outputId": "4fa81573-4439-4510-9e98-2190bf1c7201"
      },
      "source": [
        "sns.countplot(x=test_label)\n",
        "plt.title('The number of elements in each class in the test data', fontdict={'fontname': 'Comic Sans MS', 'fontsize': 15})\n",
        "plt.tight_layout()\n",
        "plt.show()"
      ],
      "execution_count": 12,
      "outputs": [
        {
          "output_type": "display_data",
          "data": {
            "image/png": "[encoded data removed]",
            "text/plain": [
              "<Figure size 432x288 with 1 Axes>"
            ]
          },
          "metadata": {
            "tags": [],
            "needs_background": "light"
          }
        }
      ]
    },
    {
      "cell_type": "code",
      "metadata": {
        "id": "2N-jymU0rpZk"
      },
      "source": [
        "train_label = pd.get_dummies(train_label)\n",
        "test_label = pd.get_dummies(test_label)"
      ],
      "execution_count": 13,
      "outputs": []
    },
    {
      "cell_type": "code",
      "metadata": {
        "colab": {
          "base_uri": "https://localhost:8080/",
          "height": 417
        },
        "id": "2IVULbtLryQv",
        "outputId": "c1d41337-9642-418d-e6a1-299c54896fa9"
      },
      "source": [
        "train_label"
      ],
      "execution_count": 14,
      "outputs": [
        {
          "output_type": "execute_result",
          "data": {
            "text/html": [
              "<div>\n",
              "<style scoped>\n",
              "    .dataframe tbody tr th:only-of-type {\n",
              "        vertical-align: middle;\n",
              "    }\n",
              "\n",
              "    .dataframe tbody tr th {\n",
              "        vertical-align: top;\n",
              "    }\n",
              "\n",
              "    .dataframe thead th {\n",
              "        text-align: right;\n",
              "    }\n",
              "</style>\n",
              "<table border=\"1\" class=\"dataframe\">\n",
              "  <thead>\n",
              "    <tr style=\"text-align: right;\">\n",
              "      <th></th>\n",
              "      <th>-1</th>\n",
              "      <th>0</th>\n",
              "      <th>1</th>\n",
              "    </tr>\n",
              "  </thead>\n",
              "  <tbody>\n",
              "    <tr>\n",
              "      <th>1</th>\n",
              "      <td>0</td>\n",
              "      <td>0</td>\n",
              "      <td>1</td>\n",
              "    </tr>\n",
              "    <tr>\n",
              "      <th>2</th>\n",
              "      <td>0</td>\n",
              "      <td>0</td>\n",
              "      <td>1</td>\n",
              "    </tr>\n",
              "    <tr>\n",
              "      <th>3</th>\n",
              "      <td>0</td>\n",
              "      <td>0</td>\n",
              "      <td>1</td>\n",
              "    </tr>\n",
              "    <tr>\n",
              "      <th>4</th>\n",
              "      <td>1</td>\n",
              "      <td>0</td>\n",
              "      <td>0</td>\n",
              "    </tr>\n",
              "    <tr>\n",
              "      <th>5</th>\n",
              "      <td>0</td>\n",
              "      <td>0</td>\n",
              "      <td>1</td>\n",
              "    </tr>\n",
              "    <tr>\n",
              "      <th>...</th>\n",
              "      <td>...</td>\n",
              "      <td>...</td>\n",
              "      <td>...</td>\n",
              "    </tr>\n",
              "    <tr>\n",
              "      <th>41152</th>\n",
              "      <td>0</td>\n",
              "      <td>1</td>\n",
              "      <td>0</td>\n",
              "    </tr>\n",
              "    <tr>\n",
              "      <th>41153</th>\n",
              "      <td>1</td>\n",
              "      <td>0</td>\n",
              "      <td>0</td>\n",
              "    </tr>\n",
              "    <tr>\n",
              "      <th>41154</th>\n",
              "      <td>0</td>\n",
              "      <td>0</td>\n",
              "      <td>1</td>\n",
              "    </tr>\n",
              "    <tr>\n",
              "      <th>41155</th>\n",
              "      <td>0</td>\n",
              "      <td>1</td>\n",
              "      <td>0</td>\n",
              "    </tr>\n",
              "    <tr>\n",
              "      <th>41156</th>\n",
              "      <td>1</td>\n",
              "      <td>0</td>\n",
              "      <td>0</td>\n",
              "    </tr>\n",
              "  </tbody>\n",
              "</table>\n",
              "<p>41106 rows × 3 columns</p>\n",
              "</div>"
            ],
            "text/plain": [
              "       -1   0   1\n",
              "1       0   0   1\n",
              "2       0   0   1\n",
              "3       0   0   1\n",
              "4       1   0   0\n",
              "5       0   0   1\n",
              "...    ..  ..  ..\n",
              "41152   0   1   0\n",
              "41153   1   0   0\n",
              "41154   0   0   1\n",
              "41155   0   1   0\n",
              "41156   1   0   0\n",
              "\n",
              "[41106 rows x 3 columns]"
            ]
          },
          "metadata": {
            "tags": []
          },
          "execution_count": 14
        }
      ]
    },
    {
      "cell_type": "code",
      "metadata": {
        "id": "_KSKXaxpr2K7"
      },
      "source": [
        "lemmatizer = WordNetLemmatizer()\n",
        "\n",
        "# Function to convert nltk tag to wordnet tag\n",
        "def nltk_tag_to_wordnet_tag(nltk_tag):\n",
        "    if nltk_tag.startswith('J'):\n",
        "        return wordnet.ADJ\n",
        "    elif nltk_tag.startswith('V'):\n",
        "        return wordnet.VERB\n",
        "    elif nltk_tag.startswith('N'):\n",
        "        return wordnet.NOUN\n",
        "    elif nltk_tag.startswith('R'):\n",
        "        return wordnet.ADV\n",
        "    else:\n",
        "        return None\n",
        "\n",
        "# Function below is necessery to find lemma of each word\n",
        "def lemmatize_sentence(de_punct_sent):\n",
        "    # Tokenize the sentence and find the POS tag for each token\n",
        "    nltk_tagged = nltk.pos_tag(nltk.word_tokenize(de_punct_sent))\n",
        "    # Tuple of (token, wordnet_tag)\n",
        "    wordnet_tagged = map(lambda x: (x[0], nltk_tag_to_wordnet_tag(x[1])), nltk_tagged)\n",
        "    lemmatized_sentence = []\n",
        "    for word, tag in wordnet_tagged:\n",
        "        if tag is None:\n",
        "            # If there is no available tag, append the token as is\n",
        "            lemmatized_sentence.append(word)\n",
        "        else:\n",
        "            # else use the tag to lemmatize the token\n",
        "            lemmatized_sentence.append(lemmatizer.lemmatize(word, tag))\n",
        "    return \" \".join(lemmatized_sentence)\n"
      ],
      "execution_count": 15,
      "outputs": []
    },
    {
      "cell_type": "code",
      "metadata": {
        "colab": {
          "base_uri": "https://localhost:8080/"
        },
        "id": "kJTv7I6lr7D8",
        "outputId": "46786ca3-d389-44cb-bf47-1db5c36bfcb2"
      },
      "source": [
        "nltk.download('punkt')\n",
        "nltk.download('averaged_perceptron_tagger')\n",
        "nltk.download('wordnet')\n",
        "train_lem = [lemmatize_sentence(i) for i in train_data]\n",
        "test_lem = [lemmatize_sentence(i) for i in test_data]"
      ],
      "execution_count": 16,
      "outputs": [
        {
          "output_type": "stream",
          "text": [
            "[nltk_data] Downloading package punkt to /root/nltk_data...\n",
            "[nltk_data]   Package punkt is already up-to-date!\n",
            "[nltk_data] Downloading package averaged_perceptron_tagger to\n",
            "[nltk_data]     /root/nltk_data...\n",
            "[nltk_data]   Package averaged_perceptron_tagger is already up-to-\n",
            "[nltk_data]       date!\n",
            "[nltk_data] Downloading package wordnet to /root/nltk_data...\n",
            "[nltk_data]   Package wordnet is already up-to-date!\n"
          ],
          "name": "stdout"
        }
      ]
    },
    {
      "cell_type": "code",
      "metadata": {
        "colab": {
          "base_uri": "https://localhost:8080/"
        },
        "id": "cVJAUlvjr9Ym",
        "outputId": "252d55a5-dad5-46fc-e36d-cda590c7ca72"
      },
      "source": [
        "samples_1 = train_lem\n",
        "samples_2 = test_lem\n",
        "\n",
        "tokenizer = Tokenizer(num_words=25000) # 25 000 most frequently used words\n",
        "tokenizer.fit_on_texts(samples_1) # Creat an index of all words from training data\n",
        "\n",
        "# Convert strings to integer index lists\n",
        "\n",
        "# After that, we pass the ready-made (from the line above) indexes for all words from train\n",
        "train_data = tokenizer.texts_to_sequences(samples_1)\n",
        "\n",
        "# And for test. So, we should get the same word indexes in the two texts\n",
        "test_data = tokenizer.texts_to_sequences(samples_2)\n",
        "\n",
        "word_index = tokenizer.word_index # Find out the calculated index of words\n",
        "print('Found %s unique tokens.' % len(word_index))"
      ],
      "execution_count": 17,
      "outputs": [
        {
          "output_type": "stream",
          "text": [
            "Found 31903 unique tokens.\n"
          ],
          "name": "stdout"
        }
      ]
    },
    {
      "cell_type": "code",
      "metadata": {
        "colab": {
          "base_uri": "https://localhost:8080/",
          "height": 321
        },
        "id": "IcrTwDJtsNXQ",
        "outputId": "7a989d96-48fe-4f7d-8b41-9aeb24b301d5"
      },
      "source": [
        "\n",
        "lens =  [len(s) for s in train_data]\n",
        "\n",
        "plt.title('The maximum number of words in a sentence', fontdict={'fontname': 'Comic Sans MS', 'fontsize': 17})\n",
        "plt.xlabel('The max number of words in a sentence', fontdict={'fontname': 'Comic Sans MS', 'fontsize': 15})\n",
        "plt.ylabel('The number of sentences', fontdict={'fontname': 'Comic Sans MS', 'fontsize': 15})\n",
        "plt.hist(lens,bins=200)\n",
        "plt.show()"
      ],
      "execution_count": 18,
      "outputs": [
        {
          "output_type": "stream",
          "text": [
            "findfont: Font family ['Comic Sans MS'] not found. Falling back to DejaVu Sans.\n"
          ],
          "name": "stderr"
        },
        {
          "output_type": "display_data",
          "data": {
            "image/png": "[encoded data removed]",
            "text/plain": [
              "<Figure size 432x288 with 1 Axes>"
            ]
          },
          "metadata": {
            "tags": [],
            "needs_background": "light"
          }
        }
      ]
    },
    {
      "cell_type": "code",
      "metadata": {
        "id": "s4DQfrozsPsh"
      },
      "source": [
        "maxlen = 40 # maximal length of sentences\n",
        "\n",
        "# Convert lists of integers to a two-dimensional tensor \n",
        "# with integers and with a shape (samples, max. length)\n",
        "\n",
        "train_data = preprocessing.sequence.pad_sequences(train_data, maxlen=maxlen, padding='post', truncating='post') \n",
        "test_data = preprocessing.sequence.pad_sequences(test_data, maxlen=maxlen, padding='post', truncating='post')"
      ],
      "execution_count": 19,
      "outputs": []
    },
    {
      "cell_type": "code",
      "metadata": {
        "id": "kyW-GG7_sSFq"
      },
      "source": [
        "embedding_dim = 256 # Dimension of the dense embedding.\n",
        "\n",
        "vocab_inp_size = len(word_index) + 1 # Size of the vocabulary\n",
        "\n",
        "hidden_size = 128"
      ],
      "execution_count": 68,
      "outputs": []
    },
    {
      "cell_type": "code",
      "metadata": {
        "colab": {
          "base_uri": "https://localhost:8080/"
        },
        "id": "23sFInXGsT47",
        "outputId": "dfd0ad54-1893-41f1-9bce-bf53f421f66c"
      },
      "source": [
        "model = Sequential() \n",
        "\n",
        "# The Embedding layer is necessery in order to convert words (in out case from integers) to vectors\n",
        "model.add(Embedding(input_dim = vocab_inp_size, output_dim = embedding_dim, input_length = maxlen))\n",
        "\n",
        "# Apply Dropout to use recurrent decimation to combat overfitting \n",
        "model.add(LSTM(hidden_size, return_sequences=True)) \n",
        "\n",
        "# Use Flatten() or GlobalMaxPooling1D() to convert 3D output to 2D.\n",
        "# It allows you to add one or more Dense layers to your model \n",
        "model.add(Flatten()) \n",
        "# or\n",
        "\n",
        "#model.add(Dense(64, activation='relu'))#as experiment we tried to add one additional layer,but it is not give as higher accuracy\n",
        "model.add(Dropout(0.4))\n",
        "model.add(Dense(128,activation='relu'))\n",
        "model.add(Dense(64,activation='relu'))\n",
        "model.add(Dense(32,activation='relu'))\n",
        "model.add(Dense(3, activation='softmax'))#activation function for classification\n",
        "model.summary()\n",
        "\n",
        "model.compile(optimizer='adam', loss='categorical_crossentropy', metrics=['accuracy']) \n",
        "\n",
        "history = model.fit(train_data, train_label, epochs=2 , batch_size=128, validation_split=0.01)"
      ],
      "execution_count": 96,
      "outputs": [
        {
          "output_type": "stream",
          "text": [
            "Model: \"sequential_22\"\n",
            "_________________________________________________________________\n",
            "Layer (type)                 Output Shape              Param #   \n",
            "=================================================================\n",
            "embedding_22 (Embedding)     (None, 40, 256)           8167424   \n",
            "_________________________________________________________________\n",
            "lstm_22 (LSTM)               (None, 40, 128)           197120    \n",
            "_________________________________________________________________\n",
            "flatten_10 (Flatten)         (None, 5120)              0         \n",
            "_________________________________________________________________\n",
            "dropout_5 (Dropout)          (None, 5120)              0         \n",
            "_________________________________________________________________\n",
            "dense_73 (Dense)             (None, 128)               655488    \n",
            "_________________________________________________________________\n",
            "dense_74 (Dense)             (None, 64)                8256      \n",
            "_________________________________________________________________\n",
            "dense_75 (Dense)             (None, 32)                2080      \n",
            "_________________________________________________________________\n",
            "dense_76 (Dense)             (None, 3)                 99        \n",
            "=================================================================\n",
            "Total params: 9,030,467\n",
            "Trainable params: 9,030,467\n",
            "Non-trainable params: 0\n",
            "_________________________________________________________________\n",
            "Epoch 1/2\n",
            "318/318 [==============================] - 29s 87ms/step - loss: 0.6355 - accuracy: 0.7276 - val_loss: 0.4616 - val_accuracy: 0.8350\n",
            "Epoch 2/2\n",
            "318/318 [==============================] - 27s 86ms/step - loss: 0.3409 - accuracy: 0.8827 - val_loss: 0.4719 - val_accuracy: 0.8325\n"
          ],
          "name": "stdout"
        }
      ]
    },
    {
      "cell_type": "code",
      "metadata": {
        "colab": {
          "base_uri": "https://localhost:8080/",
          "height": 545
        },
        "id": "vE9iDV6zsfyx",
        "outputId": "5ec1ad1a-e044-4d8a-dd51-fa6164918b89"
      },
      "source": [
        "acc = history.history['accuracy']\n",
        "val_acc = history.history['val_accuracy'] \n",
        "loss = history.history['loss'] \n",
        "val_loss = history.history['val_loss']\n",
        "\n",
        "epochs = range(1, len(acc) + 1)\n",
        "\n",
        "plt.plot(epochs, acc, 'r', label='Training acc')\n",
        "plt.plot(epochs, val_acc, 'b', label='Validation acc') \n",
        "plt.title('Training and validation accuracy') \n",
        "plt.legend()\n",
        "\n",
        "plt.figure()\n",
        "\n",
        "plt.plot(epochs, loss, 'r', label='Training loss')\n",
        "plt.plot(epochs, val_loss, 'b', label='Validation loss') \n",
        "plt.title('Training and validation loss')\n",
        "plt.legend()\n",
        "\n",
        "plt.show()"
      ],
      "execution_count": 97,
      "outputs": [
        {
          "output_type": "display_data",
          "data": {
            "image/png": "[encoded data removed]",
            "text/plain": [
              "<Figure size 432x288 with 1 Axes>"
            ]
          },
          "metadata": {
            "tags": [],
            "needs_background": "light"
          }
        },
        {
          "output_type": "display_data",
          "data": {
            "image/png": "[encoded data removed]",
            "text/plain": [
              "<Figure size 432x288 with 1 Axes>"
            ]
          },
          "metadata": {
            "tags": [],
            "needs_background": "light"
          }
        }
      ]
    },
    {
      "cell_type": "code",
      "metadata": {
        "colab": {
          "base_uri": "https://localhost:8080/"
        },
        "id": "UqtdGgGLt4T4",
        "outputId": "d11df79a-c2ef-4abb-cfb2-590e751f49dd"
      },
      "source": [
        "model.evaluate(test_data,test_label)"
      ],
      "execution_count": 98,
      "outputs": [
        {
          "output_type": "stream",
          "text": [
            "119/119 [==============================] - 0s 4ms/step - loss: 0.4843 - accuracy: 0.8308\n"
          ],
          "name": "stdout"
        },
        {
          "output_type": "execute_result",
          "data": {
            "text/plain": [
              "[0.48430731892585754, 0.8308300375938416]"
            ]
          },
          "metadata": {
            "tags": []
          },
          "execution_count": 98
        }
      ]
    },
    {
      "cell_type": "code",
      "metadata": {
        "id": "ZLFt7ry2_r4C"
      },
      "source": [
        ""
      ],
      "execution_count": null,
      "outputs": []
    }
  ]
}